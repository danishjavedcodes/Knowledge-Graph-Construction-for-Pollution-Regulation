{
 "cells": [
  {
   "cell_type": "code",
   "execution_count": 9,
   "metadata": {},
   "outputs": [],
   "source": [
    "from pdf_processor import *\n",
    "from auto_labeler import *\n",
    "from analyze_labels import *\n",
    "from unirel_model import *\n",
    "from train_unirel import *"
   ]
  },
  {
   "cell_type": "code",
   "execution_count": 2,
   "metadata": {},
   "outputs": [
    {
     "name": "stdout",
     "output_type": "stream",
     "text": [
      "Files saved for Label Studio:\n",
      "1. JSON format: c:\\Users\\Danish Javed\\Desktop\\polution\\cleaned_text.json\n",
      "2. Text format: c:\\Users\\Danish Javed\\Desktop\\polution\\cleaned_text.txt\n"
     ]
    },
    {
     "data": {
      "text/plain": [
       "True"
      ]
     },
     "execution_count": 2,
     "metadata": {},
     "output_type": "execute_result"
    }
   ],
   "source": [
    "pdf_path = r\"c:\\Users\\Danish Javed\\Desktop\\polution\\oil pollution.pdf\"\n",
    "output_path = r\"c:\\Users\\Danish Javed\\Desktop\\polution\\cleaned_text.txt\"\n",
    "process_pdf(pdf_path, output_path)"
   ]
  },
  {
   "cell_type": "code",
   "execution_count": 3,
   "metadata": {},
   "outputs": [],
   "source": [
    "labeler = AutoLabeler()\n",
    "input_path = r\"./cleaned_text.json\"\n",
    "output_path = r\"./annotated_text.json\"\n",
    "labeler.process_file(input_path, output_path)"
   ]
  },
  {
   "cell_type": "code",
   "execution_count": null,
   "metadata": {},
   "outputs": [
    {
     "name": "stdout",
     "output_type": "stream",
     "text": [
      "\n",
      "=== Entity Types Summary ===\n",
      "Entity Type          Count    Example Texts                           \n",
      "--------------------------------------------------------------------\n",
      "ACTIVITIES           91       SURVEY, Survey, OPERATION               \n",
      "AUTHORITIES          105      Authority, Registrar, Government        \n",
      "DISPOSAL             154      DISCHARGE, discharge, washing           \n",
      "DOCUMENTS            67       CERTIFICATE, RECORD BOOK, Certificate   \n",
      "EQUIPMENT            402      Ship, tanker, Tanker                    \n",
      "PENALTIES            11       fine                                    \n",
      "POLLUTANT            378      OIL, Oil, oil                           \n",
      "PROCEDURES           60       Procedure, OPERATION, operation         \n",
      "REGION               53       Zanzibar, Tanzania, territorial sea     \n",
      "REQUIREMENTS         354      REGULATION, PROVISION, REQUIREMENT      \n",
      "SPECIFICATION        83       tons, gt, metres                        \n",
      "SYSTEM               104      machinery, equipment, system            \n",
      "\n",
      "=== Relation Types Summary ===\n",
      "Relation Type        Count    Example Relations\n",
      "--------------------------------------------------------------------------------\n",
      "\n",
      "RELATED_TO           337     \n",
      "    REGULATION (REQUIREMENTS) -> RELATED_TO -> REGULATION (REQUIREMENTS)\n",
      "    SURVEY (ACTIVITIES) -> RELATED_TO -> CERTIFICATE (DOCUMENTS)\n",
      "    tanker (EQUIPMENT) -> RELATED_TO -> tons (SPECIFICATION)\n",
      "\n",
      "REQUIRED             1       \n",
      "    discharge (DISPOSAL) -> REQUIRED -> discharge (DISPOSAL)\n"
     ]
    }
   ],
   "source": []
  },
  {
   "cell_type": "code",
   "execution_count": 13,
   "metadata": {},
   "outputs": [
    {
     "name": "stdout",
     "output_type": "stream",
     "text": [
      "\n",
      "=== Entity Types Summary ===\n",
      "Entity Type          Count    Example Texts                           \n",
      "--------------------------------------------------------------------\n",
      "ACTIVITIES           91       SURVEY, Survey, OPERATION               \n",
      "AUTHORITIES          105      Authority, Registrar, Government        \n",
      "DISPOSAL             154      DISCHARGE, discharge, washing           \n",
      "DOCUMENTS            67       CERTIFICATE, RECORD BOOK, Certificate   \n",
      "EQUIPMENT            402      Ship, tanker, Tanker                    \n",
      "PENALTIES            11       fine                                    \n",
      "POLLUTANT            378      OIL, Oil, oil                           \n",
      "PROCEDURES           60       Procedure, OPERATION, operation         \n",
      "REGION               53       Zanzibar, Tanzania, territorial sea     \n",
      "REQUIREMENTS         354      REGULATION, PROVISION, REQUIREMENT      \n",
      "SPECIFICATION        83       tons, gt, metres                        \n",
      "SYSTEM               104      machinery, equipment, system            \n",
      "\n",
      "=== Relation Types Summary ===\n",
      "Relation Type        Count    Example Relations\n",
      "--------------------------------------------------------------------------------\n",
      "\n",
      "APPLY_TO             8       \n",
      "    Regulation (REQUIREMENTS) -> APPLY_TO -> Tanzania (REGION)\n",
      "    Regulation (REQUIREMENTS) -> APPLY_TO -> Zanzibar (REGION)\n",
      "    Regulation (REQUIREMENTS) -> APPLY_TO -> ship (EQUIPMENT)\n",
      "\n",
      "COMPLY_WITH          15      \n",
      "    oil (POLLUTANT) -> COMPLY_WITH -> regulation (REQUIREMENTS)\n",
      "    filtering equipment (EQUIPMENT) -> COMPLY_WITH -> regulation (REQUIREMENTS)\n",
      "    equipment (SYSTEM) -> COMPLY_WITH -> regulation (REQUIREMENTS)\n",
      "\n",
      "FOLLOW               1       \n",
      "    oil (POLLUTANT) -> FOLLOW -> procedure (PROCEDURES)\n",
      "\n",
      "GENERATES            1       \n",
      "    capacity (SPECIFICATION) -> GENERATES -> washing (DISPOSAL)\n",
      "\n",
      "HAVE                 33      \n",
      "    effluent (POLLUTANT) -> HAVE -> oil (POLLUTANT)\n",
      "    effluent (POLLUTANT) -> HAVE -> oil (POLLUTANT)\n",
      "    effluent (POLLUTANT) -> HAVE -> ship (EQUIPMENT)\n",
      "\n",
      "IMPLEMENT            3       \n",
      "    Certificate (DOCUMENTS) -> IMPLEMENT -> survey (ACTIVITIES)\n",
      "    ship (EQUIPMENT) -> IMPLEMENT -> survey (ACTIVITIES)\n",
      "    ship (EQUIPMENT) -> IMPLEMENT -> inspection (ACTIVITIES)\n",
      "\n",
      "MANAGES              2       \n",
      "    ship (EQUIPMENT) -> MANAGES -> Zanzibar (REGION)\n",
      "    Record Book (DOCUMENTS) -> MANAGES -> system (SYSTEM)\n",
      "\n",
      "MONITORS             6       \n",
      "    Oil (POLLUTANT) -> MONITORS -> Equipment (SYSTEM)\n",
      "    Separator (EQUIPMENT) -> MONITORS -> Equipment (SYSTEM)\n",
      "    Oil (POLLUTANT) -> MONITORS -> Equipment (SYSTEM)\n",
      "\n",
      "REGULATES            57      \n",
      "    REQUIREMENT (REQUIREMENTS) -> REGULATES -> OPERATION (PROCEDURES)\n",
      "    REQUIREMENT (REQUIREMENTS) -> REGULATES -> OPERATION (PROCEDURES)\n",
      "    OPERATION (PROCEDURES) -> REGULATES -> DISCHARGE (DISPOSAL)\n",
      "\n",
      "RELATED_TO           1       \n",
      "    equipment (SYSTEM) -> RELATED_TO -> system (SYSTEM)\n",
      "\n",
      "REQUIRED             122     \n",
      "    tanker (EQUIPMENT) -> REQUIRED -> OIL (POLLUTANT)\n",
      "    Oil (POLLUTANT) -> REQUIRED -> operation (PROCEDURES)\n",
      "    Oil (POLLUTANT) -> REQUIRED -> operation (PROCEDURES)\n",
      "\n",
      "RESTRICT             1       \n",
      "    volume (SPECIFICATION) -> RESTRICT -> regulation (REQUIREMENTS)\n"
     ]
    }
   ],
   "source": [
    "json_file = r\".\\annotated_text.json\"\n",
    "analyze_annotations(json_file)"
   ]
  },
  {
   "cell_type": "code",
   "execution_count": null,
   "metadata": {},
   "outputs": [],
   "source": []
  }
 ],
 "metadata": {
  "kernelspec": {
   "display_name": "Python 3",
   "language": "python",
   "name": "python3"
  },
  "language_info": {
   "codemirror_mode": {
    "name": "ipython",
    "version": 3
   },
   "file_extension": ".py",
   "mimetype": "text/x-python",
   "name": "python",
   "nbconvert_exporter": "python",
   "pygments_lexer": "ipython3",
   "version": "3.11.5"
  }
 },
 "nbformat": 4,
 "nbformat_minor": 2
}
